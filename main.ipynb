{
 "cells": [
  {
   "cell_type": "code",
   "execution_count": 141,
   "metadata": {},
   "outputs": [],
   "source": [
    "import numpy as np\n",
    "from matplotlib import pyplot as plt"
   ]
  },
  {
   "cell_type": "code",
   "execution_count": 142,
   "metadata": {},
   "outputs": [
    {
     "data": {
      "text/plain": [
       "<matplotlib.image.AxesImage at 0x19c84824a90>"
      ]
     },
     "execution_count": 142,
     "metadata": {},
     "output_type": "execute_result"
    },
    {
     "data": {
      "image/png": "[encoded data removed]",
      "text/plain": [
       "<Figure size 640x480 with 1 Axes>"
      ]
     },
     "metadata": {},
     "output_type": "display_data"
    }
   ],
   "source": [
    "data = np.loadtxt(\"data/maze_3.csv\", delimiter=\",\", dtype=bool)\n",
    "fig = plt.figure()\n",
    "ax = fig.add_subplot()\n",
    "ax.get_xaxis().set_visible(False)\n",
    "ax.get_yaxis().set_visible(False)\n",
    "ax.imshow(data, cmap='binary')"
   ]
  },
  {
   "cell_type": "code",
   "execution_count": 143,
   "metadata": {},
   "outputs": [],
   "source": [
    "def dijkstra(maze):\n",
    "    end = len(maze) - 1\n",
    "    reacheable = []\n",
    "    previous_step_info = [((0,0), (0, 0))]\n",
    "    previous_step = [(0, 0)]\n",
    "    steps = []\n",
    "\n",
    "    while True:\n",
    "        steps.append(previous_step_info)\n",
    "        tmp_info = []\n",
    "        tmp = []\n",
    "\n",
    "        for point in previous_step:\n",
    "            reacheable.append(point)\n",
    "            where = [(-1, 0), (0, 1), (0, -1), (1, 0)]\n",
    "            if point[0] == 0:\n",
    "                where.remove((-1, 0))\n",
    "            if point[1] == 0:\n",
    "                where.remove((0, -1))\n",
    "            if point[0] == end:\n",
    "                where.remove((1, 0))\n",
    "            if point[1] == end:\n",
    "                where.remove((0, 1))\n",
    "\n",
    "            for to in where:\n",
    "                p = (point[0] + to[0], point[1] + to[1])\n",
    "\n",
    "                if not maze[p[0]][p[1]] and not (p in reacheable or p in previous_step or p in tmp):\n",
    "                    tmp_info.append(tuple([point, p]))\n",
    "                    tmp.append(p)\n",
    "\n",
    "                if p == (end, end):\n",
    "                    steps.append(tmp_info)\n",
    "                    return steps\n",
    "                \n",
    "        if(len(tmp) == 0):\n",
    "           return steps\n",
    "        \n",
    "        previous_step_info = tmp_info\n",
    "        previous_step = tmp\n",
    "    return steps"
   ]
  },
  {
   "cell_type": "code",
   "execution_count": 144,
   "metadata": {},
   "outputs": [],
   "source": [
    "def get_path(steps):\n",
    "    i = len(steps) - 1\n",
    "    path = [(len(data) - 1, len(data) - 1)]\n",
    "    while ((0, 0), (0, 0)) not in steps[i]:\n",
    "        for info in steps[i]:\n",
    "            if path[-1] in info:\n",
    "                path.append(info[0])\n",
    "                i -= 1\n",
    "                break\n",
    "    return path"
   ]
  },
  {
   "cell_type": "code",
   "execution_count": 145,
   "metadata": {},
   "outputs": [
    {
     "data": {
      "image/png": "[encoded data removed]",
      "text/plain": [
       "<Figure size 640x480 with 1 Axes>"
      ]
     },
     "metadata": {},
     "output_type": "display_data"
    }
   ],
   "source": [
    "steps = dijkstra(data)\n",
    "path = get_path(steps)\n",
    "path_maze = np.ndarray(shape=[len(data), len(data)], dtype=bool)\n",
    "path_maze.fill(False)\n",
    "for point in path:\n",
    "    path_maze[point[0]][point[1]] = True\n",
    "\n",
    "path_masked = np.ma.masked_array(path_maze, data)\n",
    "maze_masked = np.ma.masked_array(data, path_maze)\n",
    "\n",
    "fig, ax = plt.subplots()\n",
    "ax.get_xaxis().set_visible(False)\n",
    "ax.get_yaxis().set_visible(False)\n",
    "ax.imshow(path_masked, cmap='Reds', vmin=0, vmax=1)\n",
    "ax.imshow(maze_masked, cmap='binary', vmin=0, vmax=1)\n",
    "plt.show()"
   ]
  },
  {
   "cell_type": "code",
   "execution_count": null,
   "metadata": {},
   "outputs": [],
   "source": []
  }
 ],
 "metadata": {
  "kernelspec": {
   "display_name": "Python 3",
   "language": "python",
   "name": "python3"
  },
  "language_info": {
   "codemirror_mode": {
    "name": "ipython",
    "version": 3
   },
   "file_extension": ".py",
   "mimetype": "text/x-python",
   "name": "python",
   "nbconvert_exporter": "python",
   "pygments_lexer": "ipython3",
   "version": "3.9.6"
  },
  "orig_nbformat": 4
 },
 "nbformat": 4,
 "nbformat_minor": 2
}
