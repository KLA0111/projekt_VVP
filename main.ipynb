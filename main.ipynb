{
 "cells": [
  {
   "cell_type": "code",
   "execution_count": 2,
   "metadata": {},
   "outputs": [],
   "source": [
    "import numpy as np\n",
    "from matplotlib import pyplot as plt"
   ]
  },
  {
   "cell_type": "code",
   "execution_count": 3,
   "metadata": {},
   "outputs": [],
   "source": [
    "def show_maze(maze, path=None):\n",
    "    if path is None:\n",
    "        path = np.copy(maze)\n",
    "        path.fill(False)\n",
    "\n",
    "    path_masked = np.ma.masked_array(path, maze)\n",
    "    maze_masked = np.ma.masked_array(maze, path)\n",
    "\n",
    "    fig, ax = plt.subplots()\n",
    "    ax.get_xaxis().set_visible(False)\n",
    "    ax.get_yaxis().set_visible(False)\n",
    "    ax.imshow(path_masked, cmap='Reds', vmin=0, vmax=1)\n",
    "    ax.imshow(maze_masked, cmap='binary', vmin=0, vmax=1)\n",
    "    plt.show()"
   ]
  },
  {
   "cell_type": "code",
   "execution_count": 4,
   "metadata": {},
   "outputs": [
    {
     "data": {
      "image/png": "[encoded data removed]",
      "text/plain": [
       "<Figure size 640x480 with 1 Axes>"
      ]
     },
     "metadata": {},
     "output_type": "display_data"
    }
   ],
   "source": [
    "data = np.loadtxt(\"data/maze_1.csv\", delimiter=\",\", dtype=bool)\n",
    "n = len(data)\n",
    "show_maze(data)"
   ]
  },
  {
   "cell_type": "code",
   "execution_count": 5,
   "metadata": {},
   "outputs": [],
   "source": [
    "def get_way_to_exit(maze):\n",
    "    end = len(maze) - 1\n",
    "    reacheable = []\n",
    "    previous_step_info = [((0,0), (0, 0))]   # has information about each points' predecessor\n",
    "    previous_step = [(0, 0)]    # all visited points\n",
    "    steps = []\n",
    "\n",
    "    while True:\n",
    "        steps.append(previous_step_info)\n",
    "        tmp_info = []\n",
    "        tmp = []\n",
    "\n",
    "        for point in previous_step:\n",
    "            reacheable.append(point)\n",
    "            where = [(-1, 0), (0, 1), (0, -1), (1, 0)]   # directions in which we can go to from this particular point\n",
    "            if point[0] == 0:\n",
    "                where.remove((-1, 0))\n",
    "            if point[1] == 0:\n",
    "                where.remove((0, -1))\n",
    "            if point[0] == end:\n",
    "                where.remove((1, 0))\n",
    "            if point[1] == end:\n",
    "                where.remove((0, 1))\n",
    "\n",
    "            for to in where:\n",
    "                p = (point[0] + to[0], point[1] + to[1])\n",
    "\n",
    "                if not maze[p[0], p[1]] and not (p in reacheable or p in previous_step or p in tmp):\n",
    "                    tmp_info.append(tuple([point, p]))\n",
    "                    tmp.append(p)\n",
    "\n",
    "                if p == (end, end):   # we found exit\n",
    "                    steps.append(tmp_info)\n",
    "                    return steps\n",
    "                \n",
    "        if(len(tmp) == 0):   # we've been to all points reachable from (0, 0)\n",
    "           return steps\n",
    "        \n",
    "        previous_step_info = tmp_info\n",
    "        previous_step = tmp"
   ]
  },
  {
   "cell_type": "code",
   "execution_count": 6,
   "metadata": {},
   "outputs": [],
   "source": [
    "def get_path(steps):\n",
    "    i = len(steps) - 1\n",
    "    path = [(len(data) - 1, len(data) - 1)]   # we assume that there's way to exit from (0, 0)\n",
    "    while ((0, 0), (0, 0)) not in steps[i]:\n",
    "        for info in steps[i]:\n",
    "            if path[-1] in info:\n",
    "                path.append(info[0])\n",
    "                i -= 1\n",
    "                break\n",
    "    return path"
   ]
  },
  {
   "cell_type": "code",
   "execution_count": 7,
   "metadata": {},
   "outputs": [
    {
     "data": {
      "image/png": "[encoded data removed]",
      "text/plain": [
       "<Figure size 640x480 with 1 Axes>"
      ]
     },
     "metadata": {},
     "output_type": "display_data"
    }
   ],
   "source": [
    "steps = get_way_to_exit(data)\n",
    "path = get_path(steps)\n",
    "path_maze = np.ndarray(shape=[len(data), len(data)], dtype=bool)\n",
    "path_maze.fill(False)\n",
    "for point in path:\n",
    "    path_maze[point[0], point[1]] = True\n",
    "\n",
    "show_maze(data, path_maze)"
   ]
  },
  {
   "attachments": {},
   "cell_type": "markdown",
   "metadata": {},
   "source": [
    "prochazime bludiste a hrany grafu postupne pridavame do incidenční matice"
   ]
  },
  {
   "cell_type": "code",
   "execution_count": 8,
   "metadata": {},
   "outputs": [],
   "source": [
    "def genarate_incidence(maze):   # returns incindence matrix for connected graf, which contains (0, 0)\n",
    "    incidence = [np.array([False for i in range(n**2)])]\n",
    "    end = len(maze) - 1\n",
    "    reacheable = []\n",
    "    previous_step_info = [((0, 0), (0, 0))]\n",
    "    previous_step = [(0, 0)]\n",
    "    steps = []\n",
    "\n",
    "    while True:\n",
    "        steps.append(previous_step_info)\n",
    "        tmp_info = []\n",
    "        tmp = []\n",
    "\n",
    "        for point in previous_step:\n",
    "            reacheable.append(point)\n",
    "            where = [(-1, 0), (0, 1), (0, -1), (1, 0)]\n",
    "            if point[0] == 0:\n",
    "                where.remove((-1, 0))\n",
    "            if point[1] == 0:\n",
    "                where.remove((0, -1))\n",
    "            if point[0] == end:\n",
    "                where.remove((1, 0))\n",
    "            if point[1] == end:\n",
    "                where.remove((0, 1))\n",
    "\n",
    "            for to in where:\n",
    "                p = (point[0] + to[0], point[1] + to[1])\n",
    "\n",
    "                if not maze[p[0], p[1]] and not (p in reacheable or p in previous_step or p in tmp):\n",
    "                    tmp_info.append(tuple([point, p]))\n",
    "                    tmp.append(p)\n",
    "\n",
    "                    edge = [np.array([False for i in range(n**2)])]\n",
    "                    edge[0][p[0] * n + p[1]] = True\n",
    "                    edge[0][(point[0]) * n + point[1]] = True\n",
    "                    incidence = np.append(incidence, edge, axis=0)\n",
    "\n",
    "\n",
    "                if p == (end, end):\n",
    "                    steps.append(tmp_info)\n",
    "                                    \n",
    "        if(len(tmp) == 0):\n",
    "            incidence = np.delete(incidence, 0, axis=0)\n",
    "            return incidence\n",
    "        \n",
    "        previous_step_info = tmp_info\n",
    "        previous_step = tmp"
   ]
  },
  {
   "cell_type": "code",
   "execution_count": 9,
   "metadata": {},
   "outputs": [],
   "source": [
    "def generate_maze(incidence):\n",
    "    n = int(len(incidence[0])**0.5)\n",
    "    maze = np.ndarray(shape=[n, n], dtype=bool)\n",
    "    maze.fill(True)\n",
    "    for edge in incidence:\n",
    "        id = np.where(edge == True)[0]\n",
    "        for i in id:\n",
    "            x = i // n\n",
    "            y = i % n\n",
    "            maze[x, y] = False\n",
    "    return maze"
   ]
  },
  {
   "cell_type": "code",
   "execution_count": 10,
   "metadata": {},
   "outputs": [
    {
     "data": {
      "image/png": "[encoded data removed]",
      "text/plain": [
       "<Figure size 640x480 with 1 Axes>"
      ]
     },
     "metadata": {},
     "output_type": "display_data"
    }
   ],
   "source": [
    "incidence = genarate_incidence(data)\n",
    "#print(incidence[:, 1], np.where(incidence[:, 1] == True))\n",
    "#print(incidence)\n",
    "fig, ax = plt.subplots()\n",
    "ax.imshow(incidence, cmap='binary')\n",
    "plt.show()"
   ]
  },
  {
   "cell_type": "code",
   "execution_count": 11,
   "metadata": {},
   "outputs": [],
   "source": [
    "def dijkstra(incidence):\n",
    "    end = len(incidence[0]) - 1\n",
    "    visited_nodes = np.array([0], dtype=int)   # nodes we've already been to\n",
    "    edges = np.where(incidence[:, 0])[0]   # edges we're visiting this step\n",
    "    while True:\n",
    "        tmp_edges = np.array([], dtype=int)   # edges we'll visit in next step\n",
    "        for edge in edges:\n",
    "            nodes_tmp = np.where(incidence[edge])[0]   # nodes we can go to from this edge\n",
    "            nodes_tmp = nodes_tmp[np.where(np.isin(nodes_tmp, visited_nodes) == False)[0]]   # nodes we can to from this edge, but without visited (len(nodes_tmp) == 1)\n",
    "            edges_tmp = np.where(incidence[:, nodes_tmp])[0]   # edges, leading to new nodes\n",
    "            tmp_edges = np.append(tmp_edges, edges_tmp)\n",
    "            visited_nodes = np.append(visited_nodes, nodes_tmp)\n",
    "            if end in nodes_tmp:\n",
    "                return visited_nodes\n",
    "        edges = tmp_edges[:]"
   ]
  },
  {
   "cell_type": "code",
   "execution_count": 12,
   "metadata": {},
   "outputs": [
    {
     "data": {
      "image/png": "[encoded data removed]",
      "text/plain": [
       "<Figure size 640x480 with 1 Axes>"
      ]
     },
     "metadata": {},
     "output_type": "display_data"
    }
   ],
   "source": [
    "m = dijkstra(incidence)\n",
    "d = np.ndarray(shape=[int((m[-1] + 1)**0.5), int((m[-1] + 1)**0.5)], dtype=bool)\n",
    "d.fill(False)\n",
    "for node in m:\n",
    "    x = node // n\n",
    "    y = node % n\n",
    "    d[x, y] = True\n",
    "show_maze(data, d)"
   ]
  },
  {
   "cell_type": "code",
   "execution_count": 13,
   "metadata": {},
   "outputs": [
    {
     "data": {
      "image/png": "[encoded data removed]",
      "text/plain": [
       "<Figure size 640x480 with 1 Axes>"
      ]
     },
     "metadata": {},
     "output_type": "display_data"
    }
   ],
   "source": [
    "m = generate_maze(incidence)\n",
    "show_maze(m)"
   ]
  },
  {
   "cell_type": "code",
   "execution_count": 14,
   "metadata": {},
   "outputs": [],
   "source": [
    "def dijkstra_extended(incidence):\n",
    "    nodes_inf = np.array([(-1, 0)], dtype=tuple)   # -1 - edgde, 0 - node\n",
    "    end = len(incidence[0]) - 1\n",
    "    visited_nodes = np.array([0], dtype=int)   # nodes we've already been to\n",
    "    edges = np.where(incidence[:, 0])[0]   # edges we're visiting this step\n",
    "    while True:\n",
    "        tmp_edges = np.array([], dtype=int)   # edges we'll visit in next step\n",
    "        for edge in edges:\n",
    "            nodes_tmp = np.where(incidence[edge])[0]   # nodes we can go to from this edge\n",
    "            nodes_tmp = nodes_tmp[np.where(np.isin(nodes_tmp, visited_nodes) == False)[0]]   # nodes we can to from this edge, but without visited\n",
    "            if(len(nodes_tmp)):\n",
    "                nodes_inf = np.append(nodes_inf, [(edge, nodes_tmp[0])], axis=0)\n",
    "            if end in nodes_tmp:\n",
    "                return nodes_inf\n",
    "            edges_tmp = np.where(incidence[:, nodes_tmp])[0]   # edges, leading to new nodes\n",
    "            tmp_edges = np.append(tmp_edges, edges_tmp)\n",
    "            visited_nodes = np.append(visited_nodes, nodes_tmp)\n",
    "        edges = tmp_edges[:]"
   ]
  },
  {
   "cell_type": "code",
   "execution_count": 16,
   "metadata": {},
   "outputs": [
    {
     "data": {
      "image/png": "[encoded data removed]",
      "text/plain": [
       "<Figure size 640x480 with 1 Axes>"
      ]
     },
     "metadata": {},
     "output_type": "display_data"
    }
   ],
   "source": [
    "n_inf = dijkstra_extended(incidence)\n",
    "n = int((len(incidence[0]) + 1)**0.5)\n",
    "res = np.ndarray(shape=[n, n], dtype=bool)\n",
    "res.fill(False)\n",
    "step = n_inf[np.where(n_inf[:, 1] == len(incidence[0]) - 1)][0]\n",
    "while step[0] != -1:\n",
    "    node = step[1]\n",
    "    x = node // n\n",
    "    y = node % n\n",
    "    res[x, y] = True\n",
    "    nodes = np.where(incidence[step[0]])[0]   # current edge connects this nodes\n",
    "    next_node = nodes[np.where(nodes != node)]   # we choose another node\n",
    "    step = n_inf[np.where(n_inf[:, 1] == next_node)][0]\n",
    "res[0, 0] = True\n",
    "show_maze(data, res)\n",
    "\n"
   ]
  },
  {
   "cell_type": "code",
   "execution_count": null,
   "metadata": {},
   "outputs": [],
   "source": []
  }
 ],
 "metadata": {
  "kernelspec": {
   "display_name": "Python 3",
   "language": "python",
   "name": "python3"
  },
  "language_info": {
   "codemirror_mode": {
    "name": "ipython",
    "version": 3
   },
   "file_extension": ".py",
   "mimetype": "text/x-python",
   "name": "python",
   "nbconvert_exporter": "python",
   "pygments_lexer": "ipython3",
   "version": "3.9.6"
  },
  "orig_nbformat": 4
 },
 "nbformat": 4,
 "nbformat_minor": 2
}
