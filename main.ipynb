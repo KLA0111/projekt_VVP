{
 "cells": [
  {
   "cell_type": "code",
   "execution_count": 414,
   "metadata": {},
   "outputs": [],
   "source": [
    "import numpy as np\n",
    "import random\n",
    "from matplotlib import pyplot as plt"
   ]
  },
  {
   "cell_type": "code",
   "execution_count": 402,
   "metadata": {},
   "outputs": [],
   "source": [
    "def show_maze(maze, path=None):  # shows maze\n",
    "    if path is None:\n",
    "        path = np.copy(maze)\n",
    "        path.fill(False)\n",
    "\n",
    "    path_masked = np.ma.masked_array(path, maze)\n",
    "    maze_masked = np.ma.masked_array(maze, path)\n",
    "\n",
    "    fig, ax = plt.subplots()\n",
    "    ax.get_xaxis().set_visible(False)\n",
    "    ax.get_yaxis().set_visible(False)\n",
    "    ax.imshow(path_masked, cmap='Reds', vmin=0, vmax=1)\n",
    "    ax.imshow(maze_masked, cmap='binary', vmin=0, vmax=1)\n",
    "    plt.show()"
   ]
  },
  {
   "cell_type": "code",
   "execution_count": 403,
   "metadata": {},
   "outputs": [
    {
     "data": {
      "image/png": "[encoded data removed]",
      "text/plain": [
       "<Figure size 640x480 with 1 Axes>"
      ]
     },
     "metadata": {},
     "output_type": "display_data"
    }
   ],
   "source": [
    "data = np.loadtxt(\"data/maze_3.csv\", delimiter=\",\", dtype=bool)\n",
    "n = len(data)\n",
    "show_maze(data)"
   ]
  },
  {
   "cell_type": "code",
   "execution_count": 404,
   "metadata": {},
   "outputs": [],
   "source": [
    "def get_incindence(maze):   # returns incindence matrix for connected graf, which contains (0, 0)\n",
    "    n = len(maze)\n",
    "    incidence = [np.array([False for i in range(n**2)])]\n",
    "    end = len(maze) - 1\n",
    "    reacheable = []\n",
    "    previous_step_info = [((0, 0), (0, 0))]\n",
    "    previous_step = [(0, 0)]\n",
    "    steps = []\n",
    "\n",
    "    while True:\n",
    "        steps.append(previous_step_info)\n",
    "        tmp_info = []\n",
    "        tmp = []\n",
    "\n",
    "        for point in previous_step:\n",
    "            reacheable.append(point)\n",
    "            where = [(-1, 0), (0, 1), (0, -1), (1, 0)]\n",
    "            if point[0] == 0:\n",
    "                where.remove((-1, 0))\n",
    "            if point[1] == 0:\n",
    "                where.remove((0, -1))\n",
    "            if point[0] == end:\n",
    "                where.remove((1, 0))\n",
    "            if point[1] == end:\n",
    "                where.remove((0, 1))\n",
    "\n",
    "            for to in where:\n",
    "                p = (point[0] + to[0], point[1] + to[1])\n",
    "\n",
    "                if not maze[p[0], p[1]] and not (p in reacheable or p in previous_step or p in tmp):\n",
    "                    tmp_info.append(tuple([point, p]))\n",
    "                    tmp.append(p)\n",
    "\n",
    "                    edge = [np.zeros(n**2, dtype=bool)]\n",
    "                    edge[0][p[0] * n + p[1]] = True\n",
    "                    edge[0][(point[0]) * n + point[1]] = True\n",
    "                    incidence = np.append(incidence, edge, axis=0)\n",
    "\n",
    "                if p == (end, end):\n",
    "                    steps.append(tmp_info)\n",
    "                                    \n",
    "        if(len(tmp) == 0):\n",
    "            incidence = np.delete(incidence, 0, axis=0)\n",
    "            return incidence\n",
    "        \n",
    "        previous_step_info = tmp_info\n",
    "        previous_step = tmp"
   ]
  },
  {
   "cell_type": "code",
   "execution_count": 405,
   "metadata": {},
   "outputs": [
    {
     "data": {
      "image/png": "[encoded data removed]",
      "text/plain": [
       "<Figure size 640x480 with 1 Axes>"
      ]
     },
     "metadata": {},
     "output_type": "display_data"
    }
   ],
   "source": [
    "incidence = get_incindence(data)\n",
    "fig, ax = plt.subplots()\n",
    "ax.imshow(incidence, cmap='binary')\n",
    "plt.show()"
   ]
  },
  {
   "cell_type": "code",
   "execution_count": 406,
   "metadata": {},
   "outputs": [],
   "source": [
    "def dijkstra(incidence):\n",
    "    nodes_inf = np.array([(-1, 0)], dtype=tuple)   # -1 - edge, 0 - node\n",
    "    end = len(incidence[0]) - 1\n",
    "    visited_nodes = np.array([0], dtype=int)   # nodes we've already been to\n",
    "    edges = np.where(incidence[:, 0])[0]   # edges we're visiting this step\n",
    "    while True:\n",
    "        tmp_edges = np.array([], dtype=int)   # edges we'll visit in next step\n",
    "        for edge in edges:\n",
    "            nodes_tmp = np.where(incidence[edge])[0]   # nodes we can go to from this edge\n",
    "            nodes_tmp = nodes_tmp[np.where(np.isin(nodes_tmp, visited_nodes) == False)[0]]   # nodes we can to from this edge, but without visited\n",
    "            if(len(nodes_tmp)):\n",
    "                nodes_inf = np.append(nodes_inf, [(edge, nodes_tmp[0])], axis=0)\n",
    "            if end in nodes_tmp:\n",
    "                return nodes_inf\n",
    "            edges_tmp = np.where(incidence[:, nodes_tmp])[0]   # edges, leading to new nodes\n",
    "            tmp_edges = np.append(tmp_edges, edges_tmp)\n",
    "            visited_nodes = np.append(visited_nodes, nodes_tmp)\n",
    "        edges = tmp_edges[:]"
   ]
  },
  {
   "cell_type": "code",
   "execution_count": 407,
   "metadata": {},
   "outputs": [],
   "source": [
    "def get_path_dijkstra(dijkstra):\n",
    "    n = int((dijkstra[-1, 1] + 1)**0.5)\n",
    "    res = np.ndarray(shape=[n, n], dtype=bool)\n",
    "    res.fill(False)\n",
    "    res[0, 0] = True\n",
    "    step = dijkstra[np.where(dijkstra[:, 1] == len(incidence[0]) - 1)][0]\n",
    "    while step[0] != -1:\n",
    "        node = step[1]\n",
    "        x = node // n\n",
    "        y = node % n\n",
    "        res[x, y] = True\n",
    "        nodes = np.where(incidence[step[0]])[0]   # current edge connects this nodes\n",
    "        next_node = nodes[np.where(nodes != node)]   # we choose another node\n",
    "        step = dijkstra[np.where(dijkstra[:, 1] == next_node)][0]\n",
    "    return res"
   ]
  },
  {
   "cell_type": "code",
   "execution_count": 408,
   "metadata": {},
   "outputs": [
    {
     "data": {
      "image/png": "[encoded data removed]",
      "text/plain": [
       "<Figure size 640x480 with 1 Axes>"
      ]
     },
     "metadata": {},
     "output_type": "display_data"
    }
   ],
   "source": [
    "incidence = get_incindence(data)\n",
    "d = dijkstra(incidence)\n",
    "path = get_path_dijkstra(d)\n",
    "show_maze(data, path)"
   ]
  },
  {
   "cell_type": "code",
   "execution_count": 409,
   "metadata": {},
   "outputs": [],
   "source": [
    "def delete_wall(res, x, y):\n",
    "    res[x, (y + 1) * 2 - 1] = False\n",
    "    return res"
   ]
  },
  {
   "cell_type": "code",
   "execution_count": 415,
   "metadata": {},
   "outputs": [],
   "source": [
    "def generate_maze(n, pattern='sidewinder', p=0.5):\n",
    "    if pattern == 'sidewinder':\n",
    "        tmp = []\n",
    "        res = np.ndarray((n, n), dtype=bool)\n",
    "        res.fill(False)\n",
    "        for i in range(1, n, 2):\n",
    "            if i != n - 1:\n",
    "                res[:, i] = True\n",
    "            res[i, :] = True\n",
    "        res[0, :] = False\n",
    "        res[-1, -1] = False\n",
    "        r = 2\n",
    "        walls = n // 2 - (n + 1) % 2\n",
    "        while r < n:\n",
    "            walls_d = np.where(np.random.randint(0, 2, walls, dtype=bool) == True)[0]\n",
    "            tmp.append(walls_d)\n",
    "            res[r, (walls_d + 1) * 2 - 1] = False\n",
    "            r += 2\n",
    "        \n",
    "        for r in range(2, len(res), 2):\n",
    "            s = 0\n",
    "            while s < len(res):\n",
    "                c = 0\n",
    "                while s + c < len(res) and res[r, s + c] != True:\n",
    "                    c += 1\n",
    "                up = random.randint(0, c // 2)\n",
    "                tmp = up * 2 + s\n",
    "                d = tmp if tmp < n else tmp - 1\n",
    "                res[r - 1, d] = False\n",
    "                s += c + 1\n",
    "    \n",
    "        return res\n",
    "    if pattern == 'slalom':\n",
    "        c = (n // 2)\n",
    "        res = np.ndarray((n, n), dtype=bool)\n",
    "        res.fill(False)\n",
    "        for i in range(1, n, 2):\n",
    "            if random.random() <= p:\n",
    "                l = random.randint(1, n - 1)\n",
    "                if (i // 2) % 2 == 0:\n",
    "                    res[:l, i] = True\n",
    "                else:\n",
    "                    res[-l:, i] = True\n",
    "            res[-1, -1] = False\n",
    "        return res\n",
    "    if pattern == 'empty':\n",
    "        res = np.ndarray((n, n), dtype=bool)\n",
    "        res.fill(False)\n",
    "        return res"
   ]
  },
  {
   "cell_type": "code",
   "execution_count": 416,
   "metadata": {},
   "outputs": [
    {
     "data": {
      "image/png": "[encoded data removed]",
      "text/plain": [
       "<Figure size 640x480 with 1 Axes>"
      ]
     },
     "metadata": {},
     "output_type": "display_data"
    },
    {
     "data": {
      "image/png": "[encoded data removed]",
      "text/plain": [
       "<Figure size 640x480 with 1 Axes>"
      ]
     },
     "metadata": {},
     "output_type": "display_data"
    }
   ],
   "source": [
    "res = generate_maze(57, pattern='sidewinder')\n",
    "show_maze(res)\n",
    "incidence = get_incindence(res)\n",
    "d = dijkstra(incidence)\n",
    "path = get_path_dijkstra(d)\n",
    "show_maze(res, path)"
   ]
  },
  {
   "cell_type": "code",
   "execution_count": 412,
   "metadata": {},
   "outputs": [
    {
     "data": {
      "image/png": "[encoded data removed]",
      "text/plain": [
       "<Figure size 640x480 with 1 Axes>"
      ]
     },
     "metadata": {},
     "output_type": "display_data"
    },
    {
     "data": {
      "image/png": "[encoded data removed]",
      "text/plain": [
       "<Figure size 640x480 with 1 Axes>"
      ]
     },
     "metadata": {},
     "output_type": "display_data"
    }
   ],
   "source": [
    "res = generate_maze(57, pattern='slalom', p=0.7)\n",
    "show_maze(res)\n",
    "incidence = get_incindence(res)\n",
    "d = dijkstra(incidence)\n",
    "path = get_path_dijkstra(d)\n",
    "show_maze(res, path)"
   ]
  },
  {
   "cell_type": "code",
   "execution_count": 413,
   "metadata": {},
   "outputs": [
    {
     "data": {
      "image/png": "[encoded data removed]",
      "text/plain": [
       "<Figure size 640x480 with 1 Axes>"
      ]
     },
     "metadata": {},
     "output_type": "display_data"
    },
    {
     "data": {
      "image/png": "[encoded data removed]",
      "text/plain": [
       "<Figure size 640x480 with 1 Axes>"
      ]
     },
     "metadata": {},
     "output_type": "display_data"
    }
   ],
   "source": [
    "res = generate_maze(57, pattern='empty')\n",
    "show_maze(res)\n",
    "incidence = get_incindence(res)\n",
    "d = dijkstra(incidence)\n",
    "path = get_path_dijkstra(d)\n",
    "show_maze(res, path)"
   ]
  }
 ],
 "metadata": {
  "kernelspec": {
   "display_name": "Python 3",
   "language": "python",
   "name": "python3"
  },
  "language_info": {
   "codemirror_mode": {
    "name": "ipython",
    "version": 3
   },
   "file_extension": ".py",
   "mimetype": "text/x-python",
   "name": "python",
   "nbconvert_exporter": "python",
   "pygments_lexer": "ipython3",
   "version": "3.9.6"
  },
  "orig_nbformat": 4
 },
 "nbformat": 4,
 "nbformat_minor": 2
}
